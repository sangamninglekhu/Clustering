{
 "cells": [
  {
   "cell_type": "markdown",
   "id": "91f7a4ca",
   "metadata": {},
   "source": [
    "## Clustering Analysis"
   ]
  },
  {
   "cell_type": "markdown",
   "id": "c34c954c",
   "metadata": {},
   "source": [
    "### Libraries & Dependencies"
   ]
  },
  {
   "cell_type": "code",
   "execution_count": null,
   "id": "69e3c3ef",
   "metadata": {},
   "outputs": [],
   "source": [
    "from sklearn.cluster import AgglomerativeClustering \n",
    "import scipy.cluster.hierarchy as sch \n",
    "\n",
    "import matplotlib.pyplot as plt\n",
    "import plotly.graph_objects as go\n",
    "\n",
    "import pandas as pd \n",
    "from geopy.geocoders import Nominatim \n",
    "from progressbar import ProgressBar \n",
    "import time "
   ]
  },
  {
   "cell_type": "markdown",
   "id": "133766a9",
   "metadata": {},
   "source": [
    "### Hierarchical Agglomerative Clustering (HAC)"
   ]
  },
  {
   "cell_type": "code",
   "execution_count": null,
   "id": "e92e35cc",
   "metadata": {
    "scrolled": false
   },
   "outputs": [],
   "source": [
    "\n",
    "# Set Pandas options to display more columns\n",
    "pd.options.display.max_columns=50\n",
    "\n",
    "# Read in the weather data csv\n",
    "df=pd.read_csv('weatherAUS.csv', encoding='utf-8')\n",
    "\n"
   ]
  },
  {
   "cell_type": "markdown",
   "id": "22ffbbfa",
   "metadata": {},
   "source": [
    "#### Data Preprocessing"
   ]
  },
  {
   "cell_type": "code",
   "execution_count": null,
   "id": "6ef95c20",
   "metadata": {},
   "outputs": [],
   "source": [
    "# Drop records where target RainTomorrow=NaN\n",
    "df=df[pd.isnull(df['RainTomorrow'])==False]\n",
    "\n",
    "# For other columns with missing values, fill them in with column mean\n",
    "df=df.fillna(df.mean())\n",
    "\n",
    "# Add spaces between multiple words in location names\n",
    "df['Location2']=df['Location'].str.replace( r\"([A-Z])\", r\" \\1\").str.strip()\n",
    "# Update Location for Pearce RAAF so it can be found by geolocator\n",
    "df['Location2']=df['Location2'].apply(lambda x: 'Pearce, Bullsbrook' if x=='Pearce R A A F' else x)"
   ]
  },
  {
   "cell_type": "code",
   "execution_count": null,
   "id": "a303a0b9",
   "metadata": {},
   "outputs": [],
   "source": [
    "# Show a snaphsot of data\n",
    "df.head(7)"
   ]
  },
  {
   "cell_type": "code",
   "execution_count": null,
   "id": "bfa5f99e",
   "metadata": {},
   "outputs": [],
   "source": [
    "df.dtypes"
   ]
  },
  {
   "cell_type": "code",
   "execution_count": null,
   "id": "08e0506a",
   "metadata": {
    "scrolled": false
   },
   "outputs": [],
   "source": [
    "# Create a list of unique locations (cities)\n",
    "loc_list=list(df.Location2.unique())\n",
    "\n",
    "geolocator = Nominatim(user_agent=\"add-your-agent-name\")\n",
    "country =\"Australia\"\n",
    "loc_res=[]\n",
    "\n",
    "pbar=ProgressBar() # This will help us to show the progress of our iteration\n",
    "for city in pbar(loc_list):\n",
    "    loc = geolocator.geocode(city+','+ country)\n",
    "    res = [city, loc.latitude, loc.longitude]\n",
    "    loc_res = loc_res + [res]\n",
    "    time.sleep(1) # sleep for 1 second before submitting the next query\n",
    "\n",
    "# Add locations to a dataframe\n",
    "df_loc=pd.DataFrame(loc_res, columns=['Loc', 'Latitude', 'Longitude'])\n",
    "\n",
    "# Show data\n",
    "df_loc"
   ]
  },
  {
   "cell_type": "code",
   "execution_count": null,
   "id": "7a9cc6e6",
   "metadata": {},
   "outputs": [],
   "source": [
    "# Create a figure\n",
    "fig = go.Figure(data=go.Scattergeo(\n",
    "        lat=df_loc['Latitude'],\n",
    "        lon=df_loc['Longitude'],\n",
    "        hovertext=df_loc['Loc'], \n",
    "        mode = 'markers',\n",
    "        marker_color = 'black',\n",
    "        ))\n",
    "\n",
    "# Update layout so we can zoom in on Australia\n",
    "fig.update_layout(\n",
    "        width=980,\n",
    "        height=720,\n",
    "        margin={\"r\":0,\"t\":10,\"l\":0,\"b\":10},\n",
    "        geo = dict(\n",
    "            scope='world',\n",
    "            projection_type='miller',\n",
    "            landcolor = \"rgb(250, 250, 250)\",\n",
    "            center=dict(lat=-25.69839, lon=139.8813), # focus point\n",
    "            projection_scale=6 # zoom in on\n",
    "        ),\n",
    "    )\n",
    "fig.show()"
   ]
  },
  {
   "cell_type": "markdown",
   "id": "826d5c34",
   "metadata": {},
   "source": [
    "### HAC Clustering - Dendogram"
   ]
  },
  {
   "cell_type": "markdown",
   "id": "fdfaac36",
   "metadata": {},
   "source": [
    "### Average Linkage"
   ]
  },
  {
   "cell_type": "code",
   "execution_count": null,
   "id": "43ca7595",
   "metadata": {},
   "outputs": [],
   "source": [
    "\n",
    "# Select attributes\n",
    "X = df_loc[['Latitude', 'Longitude']]\n",
    "\n",
    "# Create a figure\n",
    "plt.figure(figsize=(16,9), dpi=300)\n",
    "\n",
    "# Create linkage\n",
    "Z = sch.linkage(X, method='average', optimal_ordering=True) # note we use method='average'\n",
    "\n",
    "# Specify cluster colors\n",
    "sch.set_link_color_palette(['red', 'blue', 'green', 'yellow'])\n",
    "\n",
    "# Draw a dendrogram\n",
    "sch.dendrogram(Z, leaf_rotation=90, leaf_font_size=10, labels=list(df_loc['Loc']), \n",
    "               color_threshold=14.55, above_threshold_color='black')\n",
    " \n",
    "# Add horizontal line\n",
    "plt.axhline(y=14.55, c='grey', lw=1, linestyle='dashed')\n",
    "\n",
    "# Show the plot\n",
    "plt.show()"
   ]
  },
  {
   "cell_type": "markdown",
   "id": "a8c8532c",
   "metadata": {},
   "source": [
    "### Ward Linkage"
   ]
  },
  {
   "cell_type": "code",
   "execution_count": null,
   "id": "4cda2588",
   "metadata": {},
   "outputs": [],
   "source": [
    "# Select attributes\n",
    "X = df_loc[['Latitude', 'Longitude']]\n",
    "\n",
    "# Create a figure\n",
    "plt.figure(figsize=(16,9), dpi=300)\n",
    "\n",
    "# Create linkage\n",
    "Z = sch.linkage(X, method='ward', optimal_ordering=True) # note, we use method='ward'\n",
    "\n",
    "# Specify cluster colors\n",
    "sch.set_link_color_palette(['red', 'blue', 'green', 'yellow'])\n",
    "\n",
    "# Draw a dendrogram\n",
    "sch.dendrogram(Z, leaf_rotation=90, leaf_font_size=10, labels=list(df_loc['Loc']), \n",
    "               color_threshold=25, above_threshold_color='black')\n",
    " \n",
    "# Add horizontal line\n",
    "plt.axhline(y=25, c='grey', lw=1, linestyle='dashed')\n",
    "\n",
    "# Show the plot\n",
    "plt.show()"
   ]
  },
  {
   "cell_type": "markdown",
   "id": "81c38418",
   "metadata": {},
   "source": [
    "### HAC Clustering - Cluster the Dataset"
   ]
  },
  {
   "cell_type": "code",
   "execution_count": null,
   "id": "a4e0ba7e",
   "metadata": {},
   "outputs": [],
   "source": [
    "# Set the model and its parameters\n",
    "# note, options for linkage: {‘ward’, ‘complete’, ‘average’, ‘single’}, default=’ward’\n",
    "modela4 = AgglomerativeClustering(n_clusters=4, affinity='euclidean', linkage='average')\n",
    "modelw4 = AgglomerativeClustering(n_clusters=4, affinity='euclidean', linkage='ward')\n",
    "\n",
    "# Fit HAC on our data\n",
    "clusta4 = modela4.fit(X)\n",
    "clustw4 = modelw4.fit(X)\n",
    "\n",
    "# Attach cluster labels back to the location dataset\n",
    "df_loc['AverageL Clustering']=clusta4.labels_\n",
    "df_loc['WardsL Clustering']=clustw4.labels_\n",
    "\n",
    "# Print data\n",
    "df_loc"
   ]
  },
  {
   "cell_type": "markdown",
   "id": "a6401269",
   "metadata": {},
   "source": [
    "### Average Linkage"
   ]
  },
  {
   "cell_type": "code",
   "execution_count": null,
   "id": "0398896f",
   "metadata": {
    "scrolled": false
   },
   "outputs": [],
   "source": [
    "# Create a figure\n",
    "fig = go.Figure(data=go.Scattergeo(\n",
    "        lat=df_loc['Latitude'],\n",
    "        lon=df_loc['Longitude'],\n",
    "        hovertext=df_loc[['Loc', 'AverageL Clustering']], \n",
    "        mode = 'markers',\n",
    "        marker=dict(colorscale=['blue', 'green', 'yellow', 'red']),\n",
    "        marker_color = df_loc['AverageL Clustering'],\n",
    "        ))\n",
    "\n",
    "# Update layout so we can zoom in on Australia\n",
    "fig.update_layout(\n",
    "        showlegend=False,\n",
    "        width=980,\n",
    "        height=720,\n",
    "        margin={\"r\":0,\"t\":10,\"l\":0,\"b\":10},\n",
    "        geo = dict(\n",
    "            scope='world',\n",
    "            projection_type='miller',\n",
    "            landcolor = \"rgb(250, 250, 250)\",\n",
    "            center=dict(lat=-25.69839, lon=139.8813), # focus point\n",
    "            projection_scale=6 # zoom in on\n",
    "        ),\n",
    "    )\n",
    "fig.show()"
   ]
  },
  {
   "cell_type": "markdown",
   "id": "a8e4e247",
   "metadata": {},
   "source": [
    "### Ward Linkage"
   ]
  },
  {
   "cell_type": "code",
   "execution_count": null,
   "id": "9dfc7681",
   "metadata": {},
   "outputs": [],
   "source": [
    "# Create a figure\n",
    "fig = go.Figure(data=go.Scattergeo(\n",
    "        lat=df_loc['Latitude'],\n",
    "        lon=df_loc['Longitude'],\n",
    "        hovertext=df_loc[['Loc', 'WardsL Clustering']], \n",
    "        mode = 'markers',\n",
    "        marker=dict(colorscale=['yellow', 'green', 'blue', 'red']),\n",
    "        marker_color = df_loc['WardsL Clustering'],\n",
    "        ))\n",
    "\n",
    "# Update layout so we can zoom in on Australia\n",
    "fig.update_layout(\n",
    "        showlegend=False,\n",
    "        width=980,\n",
    "        height=720,\n",
    "        margin={\"r\":0,\"t\":10,\"l\":0,\"b\":10},\n",
    "        geo = dict(\n",
    "            scope='world',\n",
    "            projection_type='miller',\n",
    "            landcolor = \"rgb(250, 250, 250)\",\n",
    "            center=dict(lat=-25.69839, lon=139.8813), # focus point\n",
    "            projection_scale=6 # zoom in on\n",
    "        ),\n",
    "    )\n",
    "fig.show()"
   ]
  }
 ],
 "metadata": {
  "kernelspec": {
   "display_name": "Python 3",
   "language": "python",
   "name": "python3"
  },
  "language_info": {
   "codemirror_mode": {
    "name": "ipython",
    "version": 3
   },
   "file_extension": ".py",
   "mimetype": "text/x-python",
   "name": "python",
   "nbconvert_exporter": "python",
   "pygments_lexer": "ipython3",
   "version": "3.8.8"
  }
 },
 "nbformat": 4,
 "nbformat_minor": 5
}
